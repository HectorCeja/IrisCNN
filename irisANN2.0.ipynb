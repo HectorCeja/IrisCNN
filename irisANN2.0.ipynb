{
 "cells": [
  {
   "cell_type": "markdown",
   "metadata": {},
   "source": [
    "## se carga el dataset"
   ]
  },
  {
   "cell_type": "code",
   "execution_count": 38,
   "metadata": {},
   "outputs": [],
   "source": [
    "import numpy as np\n",
    "\n",
    "from sklearn.datasets import load_iris\n",
    "from sklearn.model_selection import train_test_split\n",
    "from sklearn.preprocessing import OneHotEncoder\n",
    "\n",
    "from keras.models import Sequential\n",
    "from keras.layers import Dense\n",
    "from keras.optimizers import Adam\n",
    "\n",
    "iris_data = load_iris()"
   ]
  },
  {
   "cell_type": "markdown",
   "metadata": {},
   "source": [
    "## se usa one hot encoder para convertir la ultima columna de clasificación en valor numérico"
   ]
  },
  {
   "cell_type": "code",
   "execution_count": 39,
   "metadata": {},
   "outputs": [],
   "source": [
    "x = iris_data.data\n",
    "y_ = iris_data.target.reshape(-1, 1)\n",
    "\n",
    "encoder = OneHotEncoder(sparse=False)"
   ]
  },
  {
   "cell_type": "markdown",
   "metadata": {},
   "source": [
    "## se preparan datos de entrenamiento"
   ]
  },
  {
   "cell_type": "code",
   "execution_count": 40,
   "metadata": {},
   "outputs": [],
   "source": [
    "train_x, test_x, train_y, test_y = train_test_split(x, y, test_size=0.20)"
   ]
  },
  {
   "cell_type": "code",
   "execution_count": 41,
   "metadata": {},
   "outputs": [
    {
     "name": "stdout",
     "output_type": "stream",
     "text": [
      "(120, 4) (120, 3)\n"
     ]
    }
   ],
   "source": [
    "print(train_x.shape, train_y.shape) "
   ]
  },
  {
   "cell_type": "markdown",
   "metadata": {},
   "source": [
    "## se configura el modelo"
   ]
  },
  {
   "cell_type": "code",
   "execution_count": 33,
   "metadata": {},
   "outputs": [],
   "source": [
    "model = Sequential()\n",
    "\n",
    "model.add(Dense(10, input_shape=(4,), activation='relu'))\n",
    "model.add(Dense(10, activation='relu'))\n",
    "model.add(Dense(10, activation='relu'))\n",
    "model.add(Dense(3, activation='softmax', name='output'))\n",
    "\n",
    "optimizer = Adam(lr=0.001)\n",
    "model.compile(optimizer, loss='categorical_crossentropy', metrics=['accuracy'])"
   ]
  },
  {
   "cell_type": "code",
   "execution_count": 34,
   "metadata": {
    "scrolled": true
   },
   "outputs": [
    {
     "name": "stdout",
     "output_type": "stream",
     "text": [
      "Epoch 1/50\n",
      " - 0s - loss: 1.2217 - acc: 0.3333\n",
      "Epoch 2/50\n",
      " - 0s - loss: 1.1145 - acc: 0.4500\n",
      "Epoch 3/50\n",
      " - 0s - loss: 1.0297 - acc: 0.3750\n",
      "Epoch 4/50\n",
      " - 0s - loss: 0.9416 - acc: 0.6250\n",
      "Epoch 5/50\n",
      " - 0s - loss: 0.8560 - acc: 0.8167\n",
      "Epoch 6/50\n",
      " - 0s - loss: 0.7590 - acc: 0.9250\n",
      "Epoch 7/50\n",
      " - 0s - loss: 0.6730 - acc: 0.9417\n",
      "Epoch 8/50\n",
      " - 0s - loss: 0.5966 - acc: 0.9167\n",
      "Epoch 9/50\n",
      " - 0s - loss: 0.5353 - acc: 0.9000\n",
      "Epoch 10/50\n",
      " - 0s - loss: 0.4876 - acc: 0.9750\n",
      "Epoch 11/50\n",
      " - 0s - loss: 0.4538 - acc: 0.8833\n",
      "Epoch 12/50\n",
      " - 0s - loss: 0.4199 - acc: 0.9417\n",
      "Epoch 13/50\n",
      " - 0s - loss: 0.3913 - acc: 0.9667\n",
      "Epoch 14/50\n",
      " - 0s - loss: 0.3670 - acc: 0.9667\n",
      "Epoch 15/50\n",
      " - 0s - loss: 0.3488 - acc: 0.9583\n",
      "Epoch 16/50\n",
      " - 0s - loss: 0.3343 - acc: 0.9667\n",
      "Epoch 17/50\n",
      " - 0s - loss: 0.3042 - acc: 0.9583\n",
      "Epoch 18/50\n",
      " - 0s - loss: 0.2983 - acc: 0.9333\n",
      "Epoch 19/50\n",
      " - 0s - loss: 0.2733 - acc: 0.9750\n",
      "Epoch 20/50\n",
      " - 0s - loss: 0.2635 - acc: 0.9583\n",
      "Epoch 21/50\n",
      " - 0s - loss: 0.2495 - acc: 0.9583\n",
      "Epoch 22/50\n",
      " - 0s - loss: 0.2322 - acc: 0.9750\n",
      "Epoch 23/50\n",
      " - 0s - loss: 0.2221 - acc: 0.9500\n",
      "Epoch 24/50\n",
      " - 0s - loss: 0.2082 - acc: 0.9750\n",
      "Epoch 25/50\n",
      " - 0s - loss: 0.1962 - acc: 0.9750\n",
      "Epoch 26/50\n",
      " - 0s - loss: 0.1833 - acc: 0.9833\n",
      "Epoch 27/50\n",
      " - 0s - loss: 0.1791 - acc: 0.9667\n",
      "Epoch 28/50\n",
      " - 0s - loss: 0.1694 - acc: 0.9583\n",
      "Epoch 29/50\n",
      " - 0s - loss: 0.1587 - acc: 0.9833\n",
      "Epoch 30/50\n",
      " - 0s - loss: 0.1525 - acc: 0.9667\n",
      "Epoch 31/50\n",
      " - 0s - loss: 0.1467 - acc: 0.9750\n",
      "Epoch 32/50\n",
      " - 0s - loss: 0.1476 - acc: 0.9750\n",
      "Epoch 33/50\n",
      " - 0s - loss: 0.1376 - acc: 0.9667\n",
      "Epoch 34/50\n",
      " - 0s - loss: 0.1293 - acc: 0.9750\n",
      "Epoch 35/50\n",
      " - 0s - loss: 0.1377 - acc: 0.9583\n",
      "Epoch 36/50\n",
      " - 0s - loss: 0.1226 - acc: 0.9667\n",
      "Epoch 37/50\n",
      " - 0s - loss: 0.1156 - acc: 0.9833\n",
      "Epoch 38/50\n",
      " - 0s - loss: 0.1115 - acc: 0.9833\n",
      "Epoch 39/50\n",
      " - 0s - loss: 0.1091 - acc: 0.9750\n",
      "Epoch 40/50\n",
      " - 0s - loss: 0.1085 - acc: 0.9667\n",
      "Epoch 41/50\n",
      " - 0s - loss: 0.1059 - acc: 0.9833\n",
      "Epoch 42/50\n",
      " - 0s - loss: 0.1031 - acc: 0.9750\n",
      "Epoch 43/50\n",
      " - 0s - loss: 0.1075 - acc: 0.9583\n",
      "Epoch 44/50\n",
      " - 0s - loss: 0.0926 - acc: 0.9750\n",
      "Epoch 45/50\n",
      " - 0s - loss: 0.0995 - acc: 0.9583\n",
      "Epoch 46/50\n",
      " - 0s - loss: 0.0934 - acc: 0.9750\n",
      "Epoch 47/50\n",
      " - 0s - loss: 0.0907 - acc: 0.9833\n",
      "Epoch 48/50\n",
      " - 0s - loss: 0.0935 - acc: 0.9750\n",
      "Epoch 49/50\n",
      " - 0s - loss: 0.0914 - acc: 0.9667\n",
      "Epoch 50/50\n",
      " - 0s - loss: 0.0872 - acc: 0.9833\n"
     ]
    },
    {
     "data": {
      "text/plain": [
       "<keras.callbacks.History at 0x7eff84527b70>"
      ]
     },
     "execution_count": 34,
     "metadata": {},
     "output_type": "execute_result"
    }
   ],
   "source": [
    "model.fit(train_x, train_y, verbose=2, batch_size=5, epochs=50)"
   ]
  },
  {
   "cell_type": "markdown",
   "metadata": {},
   "source": [
    "## el accuracy que nos da es del 96%"
   ]
  },
  {
   "cell_type": "code",
   "execution_count": 35,
   "metadata": {
    "scrolled": true
   },
   "outputs": [
    {
     "name": "stdout",
     "output_type": "stream",
     "text": [
      "\r",
      "30/30 [==============================] - 0s 3ms/step\n"
     ]
    },
    {
     "data": {
      "text/plain": [
       "[0.16746990382671356, 0.9666666388511658]"
      ]
     },
     "execution_count": 35,
     "metadata": {},
     "output_type": "execute_result"
    }
   ],
   "source": [
    "model.evaluate(test_x, test_y)"
   ]
  },
  {
   "cell_type": "code",
   "execution_count": null,
   "metadata": {},
   "outputs": [],
   "source": []
  }
 ],
 "metadata": {
  "kernelspec": {
   "display_name": "Python 3",
   "language": "python",
   "name": "python3"
  },
  "language_info": {
   "codemirror_mode": {
    "name": "ipython",
    "version": 3
   },
   "file_extension": ".py",
   "mimetype": "text/x-python",
   "name": "python",
   "nbconvert_exporter": "python",
   "pygments_lexer": "ipython3",
   "version": "3.6.5"
  }
 },
 "nbformat": 4,
 "nbformat_minor": 2
}
